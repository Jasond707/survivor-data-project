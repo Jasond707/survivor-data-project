{
 "cells": [
  {
   "cell_type": "markdown",
   "id": "c483cfc2",
   "metadata": {},
   "source": [
    "# Survivor Data Analysis (Exploratory Data Analysis - EDA)\n",
    "\n",
    "In this notebook, we’ll explore data from the TV show *Survivor* to understand what traits might influence success. We’ve pulled contestant and season information, and we’re starting by merging them into a single master dataset for analysis."
   ]
  },
  {
   "cell_type": "code",
   "execution_count": 145,
   "id": "a1d32893",
   "metadata": {},
   "outputs": [],
   "source": [
    "import pandas as pd\n",
    "import matplotlib.pyplot as plt\n",
    "\n",
    "# Load CSVs\n",
    "contestants = pd.read_csv(\"../data/contestant_table.csv\")\n",
    "seasons = pd.read_csv(\"../data/season_table.csv\")\n",
    "\n",
    "# Preview the first few rows of each\n",
    "#print(\"Contestants:\")\n",
    "#display(contestants.head())\n",
    "\n",
    "#print(\"Seasons:\")\n",
    "#display(seasons.head())"
   ]
  },
  {
   "cell_type": "markdown",
   "id": "fa7333c9",
   "metadata": {},
   "source": [
    "## Step 1: Load and Merge Data\n",
    "\n",
    "We begin by loading our CSVs and merging them into one master dataset. This gives us a single table with contestant info, season details, and more — ready for analysis."
   ]
  },
  {
   "cell_type": "code",
   "execution_count": 146,
   "id": "15c11d46",
   "metadata": {},
   "outputs": [],
   "source": [
    "master = pd.merge(contestants, seasons, on=\"num_season\", how=\"left\")"
   ]
  },
  {
   "cell_type": "code",
   "execution_count": 147,
   "id": "a0d81649",
   "metadata": {},
   "outputs": [
    {
     "data": {
      "text/html": [
       "<div>\n",
       "<style scoped>\n",
       "    .dataframe tbody tr th:only-of-type {\n",
       "        vertical-align: middle;\n",
       "    }\n",
       "\n",
       "    .dataframe tbody tr th {\n",
       "        vertical-align: top;\n",
       "    }\n",
       "\n",
       "    .dataframe thead th {\n",
       "        text-align: right;\n",
       "    }\n",
       "</style>\n",
       "<table border=\"1\" class=\"dataframe\">\n",
       "  <thead>\n",
       "    <tr style=\"text-align: right;\">\n",
       "      <th></th>\n",
       "      <th>contestant_name</th>\n",
       "      <th>age</th>\n",
       "      <th>hometown</th>\n",
       "      <th>profession</th>\n",
       "      <th>num_season</th>\n",
       "      <th>finish</th>\n",
       "      <th>gender</th>\n",
       "      <th>african_american_x</th>\n",
       "      <th>asian_american_x</th>\n",
       "      <th>latin_american_x</th>\n",
       "      <th>...</th>\n",
       "      <th>african_american_y</th>\n",
       "      <th>asian_american_y</th>\n",
       "      <th>latin_american_y</th>\n",
       "      <th>poc_y</th>\n",
       "      <th>lgbt_y</th>\n",
       "      <th>jewish_y</th>\n",
       "      <th>muslim_y</th>\n",
       "      <th>num_quits</th>\n",
       "      <th>num_evacs</th>\n",
       "      <th>winner</th>\n",
       "    </tr>\n",
       "  </thead>\n",
       "  <tbody>\n",
       "    <tr>\n",
       "      <th>0</th>\n",
       "      <td>Sonja Christopher</td>\n",
       "      <td>63</td>\n",
       "      <td>Walnut Creek,  CA</td>\n",
       "      <td>Musician/Retired Teacher</td>\n",
       "      <td>1</td>\n",
       "      <td>16</td>\n",
       "      <td>F</td>\n",
       "      <td>0</td>\n",
       "      <td>0</td>\n",
       "      <td>0</td>\n",
       "      <td>...</td>\n",
       "      <td>2</td>\n",
       "      <td>0</td>\n",
       "      <td>0</td>\n",
       "      <td>2</td>\n",
       "      <td>2</td>\n",
       "      <td>0</td>\n",
       "      <td>0</td>\n",
       "      <td>0</td>\n",
       "      <td>0</td>\n",
       "      <td>Richard Hatch</td>\n",
       "    </tr>\n",
       "    <tr>\n",
       "      <th>1</th>\n",
       "      <td>B.B. Andersen</td>\n",
       "      <td>64</td>\n",
       "      <td>Mission Hills,  KS</td>\n",
       "      <td>Real Estate Developer</td>\n",
       "      <td>1</td>\n",
       "      <td>15</td>\n",
       "      <td>M</td>\n",
       "      <td>0</td>\n",
       "      <td>0</td>\n",
       "      <td>0</td>\n",
       "      <td>...</td>\n",
       "      <td>2</td>\n",
       "      <td>0</td>\n",
       "      <td>0</td>\n",
       "      <td>2</td>\n",
       "      <td>2</td>\n",
       "      <td>0</td>\n",
       "      <td>0</td>\n",
       "      <td>0</td>\n",
       "      <td>0</td>\n",
       "      <td>Richard Hatch</td>\n",
       "    </tr>\n",
       "    <tr>\n",
       "      <th>2</th>\n",
       "      <td>Stacey Stillman</td>\n",
       "      <td>27</td>\n",
       "      <td>San Francisco,  CA</td>\n",
       "      <td>Attorney</td>\n",
       "      <td>1</td>\n",
       "      <td>14</td>\n",
       "      <td>F</td>\n",
       "      <td>0</td>\n",
       "      <td>0</td>\n",
       "      <td>0</td>\n",
       "      <td>...</td>\n",
       "      <td>2</td>\n",
       "      <td>0</td>\n",
       "      <td>0</td>\n",
       "      <td>2</td>\n",
       "      <td>2</td>\n",
       "      <td>0</td>\n",
       "      <td>0</td>\n",
       "      <td>0</td>\n",
       "      <td>0</td>\n",
       "      <td>Richard Hatch</td>\n",
       "    </tr>\n",
       "    <tr>\n",
       "      <th>3</th>\n",
       "      <td>Ramona Gray</td>\n",
       "      <td>29</td>\n",
       "      <td>Edison,  NJ</td>\n",
       "      <td>Biochemist</td>\n",
       "      <td>1</td>\n",
       "      <td>13</td>\n",
       "      <td>F</td>\n",
       "      <td>1</td>\n",
       "      <td>0</td>\n",
       "      <td>0</td>\n",
       "      <td>...</td>\n",
       "      <td>2</td>\n",
       "      <td>0</td>\n",
       "      <td>0</td>\n",
       "      <td>2</td>\n",
       "      <td>2</td>\n",
       "      <td>0</td>\n",
       "      <td>0</td>\n",
       "      <td>0</td>\n",
       "      <td>0</td>\n",
       "      <td>Richard Hatch</td>\n",
       "    </tr>\n",
       "    <tr>\n",
       "      <th>4</th>\n",
       "      <td>Dirk Been</td>\n",
       "      <td>23</td>\n",
       "      <td>Spring Green,  WI</td>\n",
       "      <td>Dairy Farmer</td>\n",
       "      <td>1</td>\n",
       "      <td>12</td>\n",
       "      <td>M</td>\n",
       "      <td>0</td>\n",
       "      <td>0</td>\n",
       "      <td>0</td>\n",
       "      <td>...</td>\n",
       "      <td>2</td>\n",
       "      <td>0</td>\n",
       "      <td>0</td>\n",
       "      <td>2</td>\n",
       "      <td>2</td>\n",
       "      <td>0</td>\n",
       "      <td>0</td>\n",
       "      <td>0</td>\n",
       "      <td>0</td>\n",
       "      <td>Richard Hatch</td>\n",
       "    </tr>\n",
       "  </tbody>\n",
       "</table>\n",
       "<p>5 rows × 53 columns</p>\n",
       "</div>"
      ],
      "text/plain": [
       "     contestant_name  age            hometown                profession  \\\n",
       "0  Sonja Christopher   63   Walnut Creek,  CA  Musician/Retired Teacher   \n",
       "1      B.B. Andersen   64  Mission Hills,  KS     Real Estate Developer   \n",
       "2    Stacey Stillman   27  San Francisco,  CA                  Attorney   \n",
       "3        Ramona Gray   29         Edison,  NJ                Biochemist   \n",
       "4          Dirk Been   23   Spring Green,  WI              Dairy Farmer   \n",
       "\n",
       "   num_season  finish gender  african_american_x  asian_american_x  \\\n",
       "0           1      16      F                   0                 0   \n",
       "1           1      15      M                   0                 0   \n",
       "2           1      14      F                   0                 0   \n",
       "3           1      13      F                   1                 0   \n",
       "4           1      12      M                   0                 0   \n",
       "\n",
       "   latin_american_x  ...  african_american_y  asian_american_y  \\\n",
       "0                 0  ...                   2                 0   \n",
       "1                 0  ...                   2                 0   \n",
       "2                 0  ...                   2                 0   \n",
       "3                 0  ...                   2                 0   \n",
       "4                 0  ...                   2                 0   \n",
       "\n",
       "   latin_american_y  poc_y lgbt_y jewish_y  muslim_y num_quits  num_evacs  \\\n",
       "0                 0      2      2        0         0         0          0   \n",
       "1                 0      2      2        0         0         0          0   \n",
       "2                 0      2      2        0         0         0          0   \n",
       "3                 0      2      2        0         0         0          0   \n",
       "4                 0      2      2        0         0         0          0   \n",
       "\n",
       "          winner  \n",
       "0  Richard Hatch  \n",
       "1  Richard Hatch  \n",
       "2  Richard Hatch  \n",
       "3  Richard Hatch  \n",
       "4  Richard Hatch  \n",
       "\n",
       "[5 rows x 53 columns]"
      ]
     },
     "metadata": {},
     "output_type": "display_data"
    }
   ],
   "source": [
    "display(master.head(5))"
   ]
  },
  {
   "cell_type": "markdown",
   "id": "90010eda",
   "metadata": {},
   "source": [
    "## Step 2: What Makes a Survivor Winner?\n",
    "\n",
    "Let’s filter the dataset to look only at winners and start analyzing what makes them stand out — by age, gender, profession, and location.\n"
   ]
  },
  {
   "cell_type": "markdown",
   "id": "14ad4fbe",
   "metadata": {},
   "source": [
    "**Average Age of Winners**"
   ]
  },
  {
   "cell_type": "code",
   "execution_count": 148,
   "id": "aa32fa5f",
   "metadata": {},
   "outputs": [
    {
     "name": "stdout",
     "output_type": "stream",
     "text": [
      "Average Age of Winners: 31.63\n"
     ]
    },
    {
     "data": {
      "image/png": "[encoded data removed]",
      "text/plain": [
       "<Figure size 800x500 with 1 Axes>"
      ]
     },
     "metadata": {},
     "output_type": "display_data"
    }
   ],
   "source": [
    "# winning contestants from each season\n",
    "winners = master[master['contestant_name'] == master['winner']]\n",
    "\n",
    "# Define the average\n",
    "avg_winner_age = winners['age'].mean()\n",
    "print(f\"Average Age of Winners: {avg_age:.2f}\")\n",
    "\n",
    "# Plot histogram\n",
    "plt.figure(figsize=(8, 5))\n",
    "plt.hist(winners['age'], bins=10, edgecolor='black')\n",
    "plt.axvline(avg_winner_age, color='red', linestyle='dashed', linewidth=2, label=f'Mean Age: {avg_winner_age:.1f}')\n",
    "plt.title('Age Distribution of Survivor Winners')\n",
    "plt.xlabel('Age')\n",
    "plt.ylabel('Number of Winners')\n",
    "plt.legend()\n",
    "plt.grid(True)\n",
    "plt.show()"
   ]
  },
  {
   "cell_type": "markdown",
   "id": "f5d9f617",
   "metadata": {},
   "source": [
    "**Male vs Female Winners**"
   ]
  },
  {
   "cell_type": "code",
   "execution_count": 149,
   "id": "75af8e83",
   "metadata": {},
   "outputs": [
    {
     "data": {
      "image/png": "[encoded data removed]",
      "text/plain": [
       "<Figure size 640x480 with 1 Axes>"
      ]
     },
     "metadata": {},
     "output_type": "display_data"
    }
   ],
   "source": [
    "# Get proportions\n",
    "gender_counts = winners['gender'].value_counts(normalize=True)\n",
    "\n",
    "# Plot\n",
    "gender_counts.plot(kind='bar', color=['skyblue', 'lightcoral'], edgecolor='black')\n",
    "\n",
    "# Formatting\n",
    "plt.title('Gender Distribution of Survivor Winners')\n",
    "plt.xlabel('Gender')\n",
    "plt.ylabel('Proportion')\n",
    "plt.ylim(0, 1)\n",
    "plt.xticks(rotation=0)\n",
    "\n",
    "# Show the percentage values on top of bars\n",
    "for i, value in enumerate(gender_counts):\n",
    "    plt.text(i, value + 0.02, f\"{value:.2%}\", ha='center', va='bottom')\n",
    "\n",
    "plt.show()"
   ]
  },
  {
   "cell_type": "markdown",
   "id": "94a6e5ae",
   "metadata": {},
   "source": [
    "**Top Winners Profession**"
   ]
  },
  {
   "cell_type": "code",
   "execution_count": 150,
   "id": "b3828777",
   "metadata": {},
   "outputs": [
    {
     "data": {
      "text/plain": [
       "profession\n",
       "Police Officer                 3\n",
       "Firefighter                    2\n",
       "Office Assistant               2\n",
       "Professional Soccer Player     1\n",
       "Office Manager                 1\n",
       "Personal Nurse                 1\n",
       "Corporate Trainer              1\n",
       "Swimsuit Model                 1\n",
       "Used Car Salesman              1\n",
       "Highway Construction Worker    1\n",
       "Name: count, dtype: int64"
      ]
     },
     "execution_count": 150,
     "metadata": {},
     "output_type": "execute_result"
    }
   ],
   "source": [
    "winners['profession'].value_counts().head(10)"
   ]
  },
  {
   "cell_type": "markdown",
   "id": "21106899",
   "metadata": {},
   "source": [
    "**Winners From States**"
   ]
  },
  {
   "cell_type": "code",
   "execution_count": 151,
   "id": "a9dd08a4",
   "metadata": {},
   "outputs": [
    {
     "data": {
      "text/plain": [
       "state\n",
       "California      8\n",
       "New York        4\n",
       "New Jersey      4\n",
       "Pennsylvania    3\n",
       "Texas           2\n",
       "Utah            2\n",
       "Iowa            2\n",
       "Idaho           2\n",
       "Ontario         2\n",
       "Rhode Island    1\n",
       "Name: count, dtype: int64"
      ]
     },
     "execution_count": 151,
     "metadata": {},
     "output_type": "execute_result"
    }
   ],
   "source": [
    "winners['state'].value_counts().head(10)"
   ]
  },
  {
   "cell_type": "markdown",
   "id": "9c574cac",
   "metadata": {},
   "source": [
    "## Step 3: Who Gets Cast?\n",
    "\n",
    "Now that we’ve looked at who wins Survivor, let’s take a step back and ask: who even gets the chance to play?\n",
    "\n",
    "In this section, we’ll explore all contestants to identify patterns in CBS’s casting choices — regardless of performance. We’ll look at age, gender, profession, and location to better understand who tends to be selected for the show.\n"
   ]
  },
  {
   "cell_type": "markdown",
   "id": "82ffba01",
   "metadata": {},
   "source": [
    "**Average Age of Contestants**"
   ]
  },
  {
   "cell_type": "code",
   "execution_count": 152,
   "id": "0c1621a3",
   "metadata": {},
   "outputs": [
    {
     "name": "stdout",
     "output_type": "stream",
     "text": [
      "Average Age of All Contestants: 33.41\n"
     ]
    },
    {
     "data": {
      "image/png": "[encoded data removed]",
      "text/plain": [
       "<Figure size 800x500 with 1 Axes>"
      ]
     },
     "metadata": {},
     "output_type": "display_data"
    }
   ],
   "source": [
    "# Define the average\n",
    "avg_cast_age = master['age'].mean()\n",
    "print(f\"Average Age of All Contestants: {avg_cast_age:.2f}\")\n",
    "\n",
    "# Plot histogram\n",
    "plt.figure(figsize=(8, 5))\n",
    "plt.hist(master['age'].dropna(), bins=10, edgecolor='black')\n",
    "plt.axvline(avg_cast_age, color='red', linestyle='dashed', linewidth=2, label=f'Mean Age: {avg_cast_age:.1f}')\n",
    "plt.title('Age Distribution of All Survivor Contestants')\n",
    "plt.xlabel('Age')\n",
    "plt.ylabel('Number of Contestants')\n",
    "plt.legend()\n",
    "plt.grid(True)\n",
    "plt.show()"
   ]
  },
  {
   "cell_type": "markdown",
   "id": "a3276149",
   "metadata": {},
   "source": [
    "**Gender of All Contestants**"
   ]
  },
  {
   "cell_type": "code",
   "execution_count": 153,
   "id": "5273a665",
   "metadata": {},
   "outputs": [
    {
     "data": {
      "image/png": "[encoded data removed]",
      "text/plain": [
       "<Figure size 640x480 with 1 Axes>"
      ]
     },
     "metadata": {},
     "output_type": "display_data"
    }
   ],
   "source": [
    "# Get proportions\n",
    "gender_counts_all = master['gender'].value_counts(normalize=True)\n",
    "\n",
    "# Plot\n",
    "gender_counts_all.plot(kind='bar', color=['skyblue', 'lightcoral'], edgecolor='black')\n",
    "\n",
    "# Formatting\n",
    "plt.title('Gender Distribution of All Survivor Contestants')\n",
    "plt.xlabel('Gender')\n",
    "plt.ylabel('Proportion')\n",
    "plt.ylim(0, 1)\n",
    "plt.xticks(rotation=0)\n",
    "\n",
    "# Show the percentage values on top of bars\n",
    "for i, value in enumerate(gender_counts_all):\n",
    "    plt.text(i, value + 0.02, f\"{value:.2%}\", ha='center', va='bottom')\n",
    "\n",
    "plt.show()\n"
   ]
  },
  {
   "cell_type": "markdown",
   "id": "d582e338",
   "metadata": {},
   "source": [
    "**All Contestants Profession**"
   ]
  },
  {
   "cell_type": "code",
   "execution_count": 154,
   "id": "35a2e70c",
   "metadata": {},
   "outputs": [
    {
     "data": {
      "text/plain": [
       "profession\n",
       "Attorney             20\n",
       "Student              20\n",
       "Bartender            17\n",
       "Firefighter          13\n",
       "Law Student          11\n",
       "Police Officer       10\n",
       "Teacher               8\n",
       "Real Estate Agent     7\n",
       "Waitress              6\n",
       "Model                 6\n",
       "Name: count, dtype: int64"
      ]
     },
     "execution_count": 154,
     "metadata": {},
     "output_type": "execute_result"
    }
   ],
   "source": [
    "# Top 10 professions among all contestants\n",
    "master['profession'].value_counts().head(10)"
   ]
  },
  {
   "cell_type": "markdown",
   "id": "9d7ef84e",
   "metadata": {},
   "source": [
    "**All Contestants From States**"
   ]
  },
  {
   "cell_type": "code",
   "execution_count": 155,
   "id": "ae191c3a",
   "metadata": {},
   "outputs": [
    {
     "data": {
      "text/plain": [
       "state\n",
       "California        200\n",
       "New York           72\n",
       "Florida            50\n",
       "Texas              46\n",
       "Massachusetts      27\n",
       "Pennsylvania       23\n",
       "New Jersey         23\n",
       "North Carolina     22\n",
       "Illinois           21\n",
       "Tennessee          18\n",
       "Name: count, dtype: int64"
      ]
     },
     "execution_count": 155,
     "metadata": {},
     "output_type": "execute_result"
    }
   ],
   "source": [
    "# Top 10 states among all contestants\n",
    "master['state'].value_counts().head(10)"
   ]
  },
  {
   "cell_type": "markdown",
   "id": "d8faadae",
   "metadata": {},
   "source": [
    "## Step 4: Do Returning Players Perform Better?\n",
    "\n",
    "Some contestants are invited back to play Survivor multiple times. In this section, we’ll examine whether returning players tend to perform better on average than first-time contestants."
   ]
  },
  {
   "cell_type": "code",
   "execution_count": 156,
   "id": "a5c62b6f",
   "metadata": {},
   "outputs": [
    {
     "data": {
      "text/html": [
       "<div>\n",
       "<style scoped>\n",
       "    .dataframe tbody tr th:only-of-type {\n",
       "        vertical-align: middle;\n",
       "    }\n",
       "\n",
       "    .dataframe tbody tr th {\n",
       "        vertical-align: top;\n",
       "    }\n",
       "\n",
       "    .dataframe thead th {\n",
       "        text-align: right;\n",
       "    }\n",
       "</style>\n",
       "<table border=\"1\" class=\"dataframe\">\n",
       "  <thead>\n",
       "    <tr style=\"text-align: right;\">\n",
       "      <th></th>\n",
       "      <th>Number of Appearances</th>\n",
       "      <th>Average Finish</th>\n",
       "      <th>Number of Contestants</th>\n",
       "    </tr>\n",
       "  </thead>\n",
       "  <tbody>\n",
       "    <tr>\n",
       "      <th>0</th>\n",
       "      <td>1.0</td>\n",
       "      <td>9.630435</td>\n",
       "      <td>644</td>\n",
       "    </tr>\n",
       "    <tr>\n",
       "      <th>1</th>\n",
       "      <td>2.0</td>\n",
       "      <td>9.514563</td>\n",
       "      <td>103</td>\n",
       "    </tr>\n",
       "    <tr>\n",
       "      <th>2</th>\n",
       "      <td>3.0</td>\n",
       "      <td>10.700000</td>\n",
       "      <td>30</td>\n",
       "    </tr>\n",
       "    <tr>\n",
       "      <th>3</th>\n",
       "      <td>4.0</td>\n",
       "      <td>11.571429</td>\n",
       "      <td>7</td>\n",
       "    </tr>\n",
       "    <tr>\n",
       "      <th>4</th>\n",
       "      <td>5.0</td>\n",
       "      <td>17.000000</td>\n",
       "      <td>1</td>\n",
       "    </tr>\n",
       "  </tbody>\n",
       "</table>\n",
       "</div>"
      ],
      "text/plain": [
       "   Number of Appearances  Average Finish  Number of Contestants\n",
       "0                    1.0        9.630435                    644\n",
       "1                    2.0        9.514563                    103\n",
       "2                    3.0       10.700000                     30\n",
       "3                    4.0       11.571429                      7\n",
       "4                    5.0       17.000000                      1"
      ]
     },
     "metadata": {},
     "output_type": "display_data"
    }
   ],
   "source": [
    "# Group by number of appearances and calculate average finish and count of contestants\n",
    "appearance_stats = master.groupby('num_appearance').agg(\n",
    "    Average_Finish=('finish', 'mean'),\n",
    "    Num_Contestants=('contestant_name', 'count')\n",
    ").reset_index()\n",
    "\n",
    "# Rename for clarity\n",
    "appearance_stats.columns = ['Number of Appearances', 'Average Finish', 'Number of Contestants']\n",
    "display(appearance_stats)"
   ]
  },
  {
   "cell_type": "code",
   "execution_count": 157,
   "id": "56cea6d5",
   "metadata": {},
   "outputs": [
    {
     "data": {
      "image/png": "[encoded data removed]",
      "text/plain": [
       "<Figure size 800x500 with 1 Axes>"
      ]
     },
     "metadata": {},
     "output_type": "display_data"
    }
   ],
   "source": [
    "plt.figure(figsize=(8, 5))\n",
    "plt.plot(appearance_stats['Number of Appearances'], appearance_stats['Average Finish'], marker='o')\n",
    "plt.title('Average Finish by Number of Survivor Appearances')\n",
    "plt.xlabel('Number of Appearances')\n",
    "plt.ylabel('Average Finish (Lower is Better)')\n",
    "plt.grid(True)\n",
    "plt.xticks(appearance_stats['Number of Appearances'])\n",
    "plt.show()\n"
   ]
  },
  {
   "cell_type": "code",
   "execution_count": 158,
   "id": "3e74c1a9",
   "metadata": {},
   "outputs": [
    {
     "name": "stdout",
     "output_type": "stream",
     "text": [
      "contestant_name\n",
      "Rob Mariano           5\n",
      "Rupert Boneham        4\n",
      "Ozzy Lusth            4\n",
      "Cirie Fields          4\n",
      "Sandra Diaz-Twine     4\n",
      "Parvati Shallow       4\n",
      "Tyson Apostol         4\n",
      "Jerri Manthey         3\n",
      "Amber Mariano         3\n",
      "Stephenie LaGrossa    3\n",
      "Name: count, dtype: int64\n"
     ]
    }
   ],
   "source": [
    "# players who appeared the most\n",
    "most_returning = master['contestant_name'].value_counts().head(10)\n",
    "print(most_returning)"
   ]
  },
  {
   "cell_type": "markdown",
   "id": "1912392e",
   "metadata": {},
   "source": [
    "## Step 5: Fun Facts and Hidden Insights \n",
    "\n",
    "To wrap up the project, let’s explore some quick and fun trivia based on the Survivor dataset — the kind of insights that might surprise fans or make your project more engaging."
   ]
  },
  {
   "cell_type": "code",
   "execution_count": 159,
   "id": "4d0c0925",
   "metadata": {},
   "outputs": [
    {
     "name": "stdout",
     "output_type": "stream",
     "text": [
      "Oldest Contestant:\n"
     ]
    },
    {
     "data": {
      "text/html": [
       "<div>\n",
       "<style scoped>\n",
       "    .dataframe tbody tr th:only-of-type {\n",
       "        vertical-align: middle;\n",
       "    }\n",
       "\n",
       "    .dataframe tbody tr th {\n",
       "        vertical-align: top;\n",
       "    }\n",
       "\n",
       "    .dataframe thead th {\n",
       "        text-align: right;\n",
       "    }\n",
       "</style>\n",
       "<table border=\"1\" class=\"dataframe\">\n",
       "  <thead>\n",
       "    <tr style=\"text-align: right;\">\n",
       "      <th></th>\n",
       "      <th>contestant_name</th>\n",
       "      <th>age</th>\n",
       "      <th>season</th>\n",
       "    </tr>\n",
       "  </thead>\n",
       "  <tbody>\n",
       "    <tr>\n",
       "      <th>113</th>\n",
       "      <td>Rudy Boesch</td>\n",
       "      <td>75</td>\n",
       "      <td>Survivor: All-Stars</td>\n",
       "    </tr>\n",
       "  </tbody>\n",
       "</table>\n",
       "</div>"
      ],
      "text/plain": [
       "    contestant_name  age               season\n",
       "113     Rudy Boesch   75  Survivor: All-Stars"
      ]
     },
     "metadata": {},
     "output_type": "display_data"
    }
   ],
   "source": [
    "# Get the oldest contestant based on max age\n",
    "oldest = master.loc[master['age'] == master['age'].max(), ['contestant_name', 'age', 'season']]\n",
    "print(\"Oldest Contestant:\")\n",
    "display(oldest)"
   ]
  },
  {
   "cell_type": "code",
   "execution_count": 160,
   "id": "ddc403e3",
   "metadata": {},
   "outputs": [
    {
     "name": "stdout",
     "output_type": "stream",
     "text": [
      "Youngest Contestant:\n"
     ]
    },
    {
     "data": {
      "text/html": [
       "<div>\n",
       "<style scoped>\n",
       "    .dataframe tbody tr th:only-of-type {\n",
       "        vertical-align: middle;\n",
       "    }\n",
       "\n",
       "    .dataframe tbody tr th {\n",
       "        vertical-align: top;\n",
       "    }\n",
       "\n",
       "    .dataframe thead th {\n",
       "        text-align: right;\n",
       "    }\n",
       "</style>\n",
       "<table border=\"1\" class=\"dataframe\">\n",
       "  <thead>\n",
       "    <tr style=\"text-align: right;\">\n",
       "      <th></th>\n",
       "      <th>contestant_name</th>\n",
       "      <th>age</th>\n",
       "      <th>season</th>\n",
       "    </tr>\n",
       "  </thead>\n",
       "  <tbody>\n",
       "    <tr>\n",
       "      <th>587</th>\n",
       "      <td>Will Wahl</td>\n",
       "      <td>18</td>\n",
       "      <td>Survivor: Millennials vs. Gen X</td>\n",
       "    </tr>\n",
       "    <tr>\n",
       "      <th>644</th>\n",
       "      <td>Michael Yerger</td>\n",
       "      <td>18</td>\n",
       "      <td>Survivor: Ghost Island</td>\n",
       "    </tr>\n",
       "  </tbody>\n",
       "</table>\n",
       "</div>"
      ],
      "text/plain": [
       "    contestant_name  age                           season\n",
       "587       Will Wahl   18  Survivor: Millennials vs. Gen X\n",
       "644  Michael Yerger   18           Survivor: Ghost Island"
      ]
     },
     "metadata": {},
     "output_type": "display_data"
    }
   ],
   "source": [
    "# Get the youngest contestant based on min age\n",
    "youngest = master.loc[master['age'] == master['age'].min(), ['contestant_name', 'age', 'season']]\n",
    "print(\"Youngest Contestant:\")\n",
    "display(youngest)"
   ]
  },
  {
   "cell_type": "code",
   "execution_count": 161,
   "id": "996f7f4d",
   "metadata": {},
   "outputs": [
    {
     "name": "stdout",
     "output_type": "stream",
     "text": [
      "Contestant with the Most Appearances:\n",
      "contestant_name\n",
      "Rob Mariano    5\n",
      "Name: count, dtype: int64\n"
     ]
    }
   ],
   "source": [
    "# Find the contestant who appeared the most times\n",
    "most_appearances = master['contestant_name'].value_counts().head(1)\n",
    "print(\"Contestant with the Most Appearances:\")\n",
    "print(most_appearances)"
   ]
  },
  {
   "cell_type": "code",
   "execution_count": 162,
   "id": "ff0fc2b3",
   "metadata": {},
   "outputs": [
    {
     "name": "stdout",
     "output_type": "stream",
     "text": [
      "Contestants Who Won More Than Once:\n"
     ]
    },
    {
     "data": {
      "text/plain": [
       "contestant_name\n",
       "Sandra Diaz-Twine    2\n",
       "Tony Vlachos         2\n",
       "Name: winner, dtype: int64"
      ]
     },
     "metadata": {},
     "output_type": "display_data"
    }
   ],
   "source": [
    "# Find contestants who have won Survivor more than once\n",
    "# For each contestant, count how many times their name appears as the winner\n",
    "multi_win = master.groupby('contestant_name')['winner'].apply(lambda x: (x == x.name).sum())\n",
    "\n",
    "# Filter to show only contestants who have more than 1 win\n",
    "multi_win = multi_win[multi_win > 1]\n",
    "\n",
    "print(\"Contestants Who Won More Than Once:\")\n",
    "display(multi_win)"
   ]
  },
  {
   "cell_type": "code",
   "execution_count": 163,
   "id": "5edb2900",
   "metadata": {},
   "outputs": [
    {
     "name": "stdout",
     "output_type": "stream",
     "text": [
      "State with the Most Winners:\n",
      "state\n",
      "California    8\n",
      "Name: count, dtype: int64\n"
     ]
    }
   ],
   "source": [
    "# Top winners from state\n",
    "winners = master[master['contestant_name'] == master['winner']]\n",
    "top_winner_state = winners['state'].value_counts().head(1)\n",
    "print(\"State with the Most Winners:\")\n",
    "print(top_winner_state)"
   ]
  },
  {
   "cell_type": "code",
   "execution_count": 164,
   "id": "75483217",
   "metadata": {},
   "outputs": [
    {
     "name": "stdout",
     "output_type": "stream",
     "text": [
      "Season with the Most Returning Players:\n"
     ]
    },
    {
     "data": {
      "text/plain": [
       "season\n",
       "Survivor: Cambodia    20\n",
       "Name: contestant_name, dtype: int64"
      ]
     },
     "metadata": {},
     "output_type": "display_data"
    }
   ],
   "source": [
    "# Filter for returning players (more than one appearance)\n",
    "# Then group by season and count how many unique returnees played in each\n",
    "returnees_per_season = master[master['num_appearance'] > 1].groupby('season')['contestant_name'].nunique()\n",
    "\n",
    "# Sort to find the season with the most returnees\n",
    "returnees_per_season = returnees_per_season.sort_values(ascending=False)\n",
    "\n",
    "print(\"Season with the Most Returning Players:\")\n",
    "display(returnees_per_season.head(1))"
   ]
  },
  {
   "cell_type": "markdown",
   "id": "9f2431f6",
   "metadata": {},
   "source": [
    "## Key Takeaways\n",
    "\n",
    "- Winners tend to be slightly older than the average contestant.\n",
    "- CBS tends to cast men and women equally.\n",
    "- Returning players do not always perform better — but fan favorites get more chances.\n",
    "- California has produced the most players/winners.\n",
    "- A couple contestants have won the game more than once.\n",
    "\n",
    "This analysis offers a deeper look into who gets cast on Survivor and who succeeds.\n"
   ]
  }
 ],
 "metadata": {
  "kernelspec": {
   "display_name": "Python 3",
   "language": "python",
   "name": "python3"
  },
  "language_info": {
   "codemirror_mode": {
    "name": "ipython",
    "version": 3
   },
   "file_extension": ".py",
   "mimetype": "text/x-python",
   "name": "python",
   "nbconvert_exporter": "python",
   "pygments_lexer": "ipython3",
   "version": "3.12.5"
  }
 },
 "nbformat": 4,
 "nbformat_minor": 5
}
