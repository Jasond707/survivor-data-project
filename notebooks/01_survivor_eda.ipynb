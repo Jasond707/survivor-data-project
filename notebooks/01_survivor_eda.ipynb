{
 "cells": [
  {
   "cell_type": "markdown",
   "id": "c483cfc2",
   "metadata": {},
   "source": [
    "# Survivor Data Analysis (Exploratory Data Analysis - EDA)\n",
    "\n",
    "In this notebook, we’ll explore data from the TV show *Survivor* to understand what traits might influence success. We’ve pulled contestant and season information, and we’re starting by merging them into a single master dataset for analysis."
   ]
  },
  {
   "cell_type": "code",
   "execution_count": 185,
   "id": "a1d32893",
   "metadata": {},
   "outputs": [],
   "source": [
    "import pandas as pd\n",
    "import matplotlib.pyplot as plt\n",
    "\n",
    "# Load CSVs\n",
    "contestants = pd.read_csv(\"../data/contestant_table.csv\")\n",
    "seasons = pd.read_csv(\"../data/season_table.csv\")\n",
    "\n",
    "# Preview the first few rows of each\n",
    "#print(\"Contestants:\")\n",
    "#display(contestants.head())\n",
    "\n",
    "#print(\"Seasons:\")\n",
    "#display(seasons.head())"
   ]
  },
  {
   "cell_type": "markdown",
   "id": "fa7333c9",
   "metadata": {},
   "source": [
    "## Step 1: Load and Merge Data\n",
    "\n",
    "We begin by loading our CSVs and merging them into one master dataset. This gives us a single table with contestant info, season details, and more — ready for analysis."
   ]
  },
  {
   "cell_type": "code",
   "execution_count": 186,
   "id": "15c11d46",
   "metadata": {},
   "outputs": [],
   "source": [
    "master = pd.merge(contestants, seasons, on=\"num_season\", how=\"left\")"
   ]
  },
  {
   "cell_type": "code",
   "execution_count": 187,
   "id": "a0d81649",
   "metadata": {},
   "outputs": [
    {
     "data": {
      "text/html": [
       "<div>\n",
       "<style scoped>\n",
       "    .dataframe tbody tr th:only-of-type {\n",
       "        vertical-align: middle;\n",
       "    }\n",
       "\n",
       "    .dataframe tbody tr th {\n",
       "        vertical-align: top;\n",
       "    }\n",
       "\n",
       "    .dataframe thead th {\n",
       "        text-align: right;\n",
       "    }\n",
       "</style>\n",
       "<table border=\"1\" class=\"dataframe\">\n",
       "  <thead>\n",
       "    <tr style=\"text-align: right;\">\n",
       "      <th></th>\n",
       "      <th>contestant_name</th>\n",
       "      <th>age</th>\n",
       "      <th>hometown</th>\n",
       "      <th>profession</th>\n",
       "      <th>num_season</th>\n",
       "      <th>finish</th>\n",
       "      <th>gender</th>\n",
       "      <th>african_american_x</th>\n",
       "      <th>asian_american_x</th>\n",
       "      <th>latin_american_x</th>\n",
       "      <th>...</th>\n",
       "      <th>african_american_y</th>\n",
       "      <th>asian_american_y</th>\n",
       "      <th>latin_american_y</th>\n",
       "      <th>poc_y</th>\n",
       "      <th>lgbt_y</th>\n",
       "      <th>jewish_y</th>\n",
       "      <th>muslim_y</th>\n",
       "      <th>num_quits</th>\n",
       "      <th>num_evacs</th>\n",
       "      <th>winner</th>\n",
       "    </tr>\n",
       "  </thead>\n",
       "  <tbody>\n",
       "    <tr>\n",
       "      <th>0</th>\n",
       "      <td>Sonja Christopher</td>\n",
       "      <td>63</td>\n",
       "      <td>Walnut Creek,  CA</td>\n",
       "      <td>Musician/Retired Teacher</td>\n",
       "      <td>1</td>\n",
       "      <td>16</td>\n",
       "      <td>F</td>\n",
       "      <td>0</td>\n",
       "      <td>0</td>\n",
       "      <td>0</td>\n",
       "      <td>...</td>\n",
       "      <td>2</td>\n",
       "      <td>0</td>\n",
       "      <td>0</td>\n",
       "      <td>2</td>\n",
       "      <td>2</td>\n",
       "      <td>0</td>\n",
       "      <td>0</td>\n",
       "      <td>0</td>\n",
       "      <td>0</td>\n",
       "      <td>Richard Hatch</td>\n",
       "    </tr>\n",
       "    <tr>\n",
       "      <th>1</th>\n",
       "      <td>B.B. Andersen</td>\n",
       "      <td>64</td>\n",
       "      <td>Mission Hills,  KS</td>\n",
       "      <td>Real Estate Developer</td>\n",
       "      <td>1</td>\n",
       "      <td>15</td>\n",
       "      <td>M</td>\n",
       "      <td>0</td>\n",
       "      <td>0</td>\n",
       "      <td>0</td>\n",
       "      <td>...</td>\n",
       "      <td>2</td>\n",
       "      <td>0</td>\n",
       "      <td>0</td>\n",
       "      <td>2</td>\n",
       "      <td>2</td>\n",
       "      <td>0</td>\n",
       "      <td>0</td>\n",
       "      <td>0</td>\n",
       "      <td>0</td>\n",
       "      <td>Richard Hatch</td>\n",
       "    </tr>\n",
       "    <tr>\n",
       "      <th>2</th>\n",
       "      <td>Stacey Stillman</td>\n",
       "      <td>27</td>\n",
       "      <td>San Francisco,  CA</td>\n",
       "      <td>Attorney</td>\n",
       "      <td>1</td>\n",
       "      <td>14</td>\n",
       "      <td>F</td>\n",
       "      <td>0</td>\n",
       "      <td>0</td>\n",
       "      <td>0</td>\n",
       "      <td>...</td>\n",
       "      <td>2</td>\n",
       "      <td>0</td>\n",
       "      <td>0</td>\n",
       "      <td>2</td>\n",
       "      <td>2</td>\n",
       "      <td>0</td>\n",
       "      <td>0</td>\n",
       "      <td>0</td>\n",
       "      <td>0</td>\n",
       "      <td>Richard Hatch</td>\n",
       "    </tr>\n",
       "    <tr>\n",
       "      <th>3</th>\n",
       "      <td>Ramona Gray</td>\n",
       "      <td>29</td>\n",
       "      <td>Edison,  NJ</td>\n",
       "      <td>Biochemist</td>\n",
       "      <td>1</td>\n",
       "      <td>13</td>\n",
       "      <td>F</td>\n",
       "      <td>1</td>\n",
       "      <td>0</td>\n",
       "      <td>0</td>\n",
       "      <td>...</td>\n",
       "      <td>2</td>\n",
       "      <td>0</td>\n",
       "      <td>0</td>\n",
       "      <td>2</td>\n",
       "      <td>2</td>\n",
       "      <td>0</td>\n",
       "      <td>0</td>\n",
       "      <td>0</td>\n",
       "      <td>0</td>\n",
       "      <td>Richard Hatch</td>\n",
       "    </tr>\n",
       "    <tr>\n",
       "      <th>4</th>\n",
       "      <td>Dirk Been</td>\n",
       "      <td>23</td>\n",
       "      <td>Spring Green,  WI</td>\n",
       "      <td>Dairy Farmer</td>\n",
       "      <td>1</td>\n",
       "      <td>12</td>\n",
       "      <td>M</td>\n",
       "      <td>0</td>\n",
       "      <td>0</td>\n",
       "      <td>0</td>\n",
       "      <td>...</td>\n",
       "      <td>2</td>\n",
       "      <td>0</td>\n",
       "      <td>0</td>\n",
       "      <td>2</td>\n",
       "      <td>2</td>\n",
       "      <td>0</td>\n",
       "      <td>0</td>\n",
       "      <td>0</td>\n",
       "      <td>0</td>\n",
       "      <td>Richard Hatch</td>\n",
       "    </tr>\n",
       "  </tbody>\n",
       "</table>\n",
       "<p>5 rows × 53 columns</p>\n",
       "</div>"
      ],
      "text/plain": [
       "     contestant_name  age            hometown                profession  \\\n",
       "0  Sonja Christopher   63   Walnut Creek,  CA  Musician/Retired Teacher   \n",
       "1      B.B. Andersen   64  Mission Hills,  KS     Real Estate Developer   \n",
       "2    Stacey Stillman   27  San Francisco,  CA                  Attorney   \n",
       "3        Ramona Gray   29         Edison,  NJ                Biochemist   \n",
       "4          Dirk Been   23   Spring Green,  WI              Dairy Farmer   \n",
       "\n",
       "   num_season  finish gender  african_american_x  asian_american_x  \\\n",
       "0           1      16      F                   0                 0   \n",
       "1           1      15      M                   0                 0   \n",
       "2           1      14      F                   0                 0   \n",
       "3           1      13      F                   1                 0   \n",
       "4           1      12      M                   0                 0   \n",
       "\n",
       "   latin_american_x  ...  african_american_y  asian_american_y  \\\n",
       "0                 0  ...                   2                 0   \n",
       "1                 0  ...                   2                 0   \n",
       "2                 0  ...                   2                 0   \n",
       "3                 0  ...                   2                 0   \n",
       "4                 0  ...                   2                 0   \n",
       "\n",
       "   latin_american_y  poc_y lgbt_y jewish_y  muslim_y num_quits  num_evacs  \\\n",
       "0                 0      2      2        0         0         0          0   \n",
       "1                 0      2      2        0         0         0          0   \n",
       "2                 0      2      2        0         0         0          0   \n",
       "3                 0      2      2        0         0         0          0   \n",
       "4                 0      2      2        0         0         0          0   \n",
       "\n",
       "          winner  \n",
       "0  Richard Hatch  \n",
       "1  Richard Hatch  \n",
       "2  Richard Hatch  \n",
       "3  Richard Hatch  \n",
       "4  Richard Hatch  \n",
       "\n",
       "[5 rows x 53 columns]"
      ]
     },
     "metadata": {},
     "output_type": "display_data"
    }
   ],
   "source": [
    "display(master.head(5))"
   ]
  },
  {
   "cell_type": "markdown",
   "id": "90010eda",
   "metadata": {},
   "source": [
    "## Step 2: What Makes a Survivor Winner?\n",
    "\n",
    "Let’s filter the dataset to look only at winners and start analyzing what makes them stand out — by age, gender, profession, and location.\n"
   ]
  },
  {
   "cell_type": "markdown",
   "id": "14ad4fbe",
   "metadata": {},
   "source": [
    "**Average Age of Winners**"
   ]
  },
  {
   "cell_type": "code",
   "execution_count": 188,
   "id": "aa32fa5f",
   "metadata": {},
   "outputs": [
    {
     "name": "stdout",
     "output_type": "stream",
     "text": [
      "Average Age of Winners: 31.63\n"
     ]
    },
    {
     "data": {
      "image/png": "[encoded data removed]",
      "text/plain": [
       "<Figure size 800x500 with 1 Axes>"
      ]
     },
     "metadata": {},
     "output_type": "display_data"
    }
   ],
   "source": [
    "# winning contestants from each season\n",
    "winners = master[master['contestant_name'] == master['winner']]\n",
    "\n",
    "# Define the average\n",
    "avg_age = winners['age'].mean()\n",
    "print(f\"Average Age of Winners: {avg_age:.2f}\")\n",
    "\n",
    "# Plot histogram\n",
    "plt.figure(figsize=(8, 5))\n",
    "plt.hist(winners['age'], bins=10, edgecolor='black')\n",
    "plt.axvline(avg_age, color='red', linestyle='dashed', linewidth=2, label=f'Mean Age: {avg_age:.1f}')\n",
    "plt.title('Age Distribution of Survivor Winners')\n",
    "plt.xlabel('Age')\n",
    "plt.ylabel('Number of Winners')\n",
    "plt.legend()\n",
    "plt.grid(True)\n",
    "plt.show()"
   ]
  },
  {
   "cell_type": "markdown",
   "id": "f5d9f617",
   "metadata": {},
   "source": [
    "**Male vs Female Winners**"
   ]
  },
  {
   "cell_type": "code",
   "execution_count": 189,
   "id": "75af8e83",
   "metadata": {},
   "outputs": [
    {
     "data": {
      "image/png": "[encoded data removed]",
      "text/plain": [
       "<Figure size 640x480 with 1 Axes>"
      ]
     },
     "metadata": {},
     "output_type": "display_data"
    }
   ],
   "source": [
    "# Get proportions\n",
    "gender_counts = winners['gender'].value_counts(normalize=True)\n",
    "\n",
    "# Plot\n",
    "gender_counts.plot(kind='bar', color=['skyblue', 'lightcoral'], edgecolor='black')\n",
    "\n",
    "# Formatting\n",
    "plt.title('Gender Distribution of Survivor Winners')\n",
    "plt.xlabel('Gender')\n",
    "plt.ylabel('Proportion')\n",
    "plt.ylim(0, 1)\n",
    "plt.xticks(rotation=0)\n",
    "\n",
    "# Show the percentage values on top of bars (optional polish)\n",
    "for i, value in enumerate(gender_counts):\n",
    "    plt.text(i, value + 0.02, f\"{value:.2%}\", ha='center', va='bottom')\n",
    "\n",
    "plt.show()"
   ]
  },
  {
   "cell_type": "markdown",
   "id": "94a6e5ae",
   "metadata": {},
   "source": [
    "**Top Winners Profession**"
   ]
  },
  {
   "cell_type": "code",
   "execution_count": 190,
   "id": "b3828777",
   "metadata": {},
   "outputs": [
    {
     "data": {
      "text/plain": [
       "profession\n",
       "Police Officer                 3\n",
       "Firefighter                    2\n",
       "Office Assistant               2\n",
       "Professional Soccer Player     1\n",
       "Office Manager                 1\n",
       "Personal Nurse                 1\n",
       "Corporate Trainer              1\n",
       "Swimsuit Model                 1\n",
       "Used Car Salesman              1\n",
       "Highway Construction Worker    1\n",
       "Name: count, dtype: int64"
      ]
     },
     "execution_count": 190,
     "metadata": {},
     "output_type": "execute_result"
    }
   ],
   "source": [
    "winners['profession'].value_counts().head(10)"
   ]
  },
  {
   "cell_type": "markdown",
   "id": "21106899",
   "metadata": {},
   "source": [
    "**Winners From States**"
   ]
  },
  {
   "cell_type": "code",
   "execution_count": 191,
   "id": "a9dd08a4",
   "metadata": {},
   "outputs": [
    {
     "data": {
      "text/plain": [
       "state\n",
       "California      8\n",
       "New York        4\n",
       "New Jersey      4\n",
       "Pennsylvania    3\n",
       "Texas           2\n",
       "Utah            2\n",
       "Iowa            2\n",
       "Idaho           2\n",
       "Ontario         2\n",
       "Rhode Island    1\n",
       "Name: count, dtype: int64"
      ]
     },
     "execution_count": 191,
     "metadata": {},
     "output_type": "execute_result"
    }
   ],
   "source": [
    "winners['state'].value_counts().head(10)"
   ]
  }
 ],
 "metadata": {
  "kernelspec": {
   "display_name": "Python 3",
   "language": "python",
   "name": "python3"
  },
  "language_info": {
   "codemirror_mode": {
    "name": "ipython",
    "version": 3
   },
   "file_extension": ".py",
   "mimetype": "text/x-python",
   "name": "python",
   "nbconvert_exporter": "python",
   "pygments_lexer": "ipython3",
   "version": "3.12.5"
  }
 },
 "nbformat": 4,
 "nbformat_minor": 5
}
